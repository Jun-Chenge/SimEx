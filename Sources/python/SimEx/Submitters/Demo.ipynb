{
 "cells": [
  {
   "cell_type": "code",
   "execution_count": 1,
   "metadata": {},
   "outputs": [
    {
     "name": "stderr",
     "output_type": "stream",
     "text": [
      "/usr/lib64/python3.4/importlib/_bootstrap.py:321: FutureWarning: Conversion of the second argument of issubdtype from `float` to `np.floating` is deprecated. In future, it will be treated as `np.float64 == np.dtype(float).type`.\n",
      "  return f(*args, **kwds)\n"
     ]
    },
    {
     "name": "stdout",
     "output_type": "stream",
     "text": [
      "initializing ocelot...\n",
      "\n",
      "WARNING: esther_execute could not be imported. This is most probably due to Esther not being installed or not found. Expect RunTimeErrors when attempting to run the EstherPhotonMatterInteractor.backengine().\n"
     ]
    }
   ],
   "source": [
    "from SimEx import *"
   ]
  },
  {
   "cell_type": "code",
   "execution_count": 2,
   "metadata": {},
   "outputs": [],
   "source": [
    "from SimExSLURM import SLURMSubmitter"
   ]
  },
  {
   "cell_type": "code",
   "execution_count": 3,
   "metadata": {},
   "outputs": [
    {
     "name": "stdout",
     "output_type": "stream",
     "text": [
      "Demo.ipynb  SimEx_Test.ipynb\n",
      "SimExSLURM.py\n"
     ]
    }
   ],
   "source": [
    "!ls *.ipynb\n",
    "!ls SimEx*.py"
   ]
  },
  {
   "cell_type": "code",
   "execution_count": 4,
   "metadata": {},
   "outputs": [],
   "source": [
    "from SimEx import *\n",
    "import SimEx\n",
    "from IPython.display import display\n",
    "from ipywidgets import widgets"
   ]
  },
  {
   "cell_type": "code",
   "execution_count": 5,
   "metadata": {},
   "outputs": [],
   "source": [
    "beam = PhotonBeamParameters(\n",
    "    photon_energy = 4972.0*electronvolt,  # photon energy in eV\n",
    "    beam_diameter_fwhm=1.3e-7*meter,         # focus diameter in m\n",
    "    pulse_energy=0.45e-3*joule,                   # pulse energy in J\n",
    "    photon_energy_relative_bandwidth=0.003, # relative bandwidth dE/E\n",
    "    divergence=0.0*radian,                         # Beam divergence in rad\n",
    "    photon_energy_spectrum_type='tophat',   # Spectrum type. Acceptable values are \"tophat\", \"SASE\", and \"twocolor\")\n",
    "    )"
   ]
  },
  {
   "cell_type": "code",
   "execution_count": 6,
   "metadata": {},
   "outputs": [
    {
     "name": "stdout",
     "output_type": "stream",
     "text": [
      "Checking presence of 5udc.pdb. Will query from PDB if not found in $PWD.\n",
      "Sample path is set to 5udc.pdb.\n"
     ]
    }
   ],
   "source": [
    "parameters = CrystFELPhotonDiffractorParameters(\n",
    "    sample='5udc.pdb',                    # Looks up pdb file in cwd, if not found, queries from RCSB pdb mirror.\n",
    "    uniform_rotation=True,                # Apply random rotation\n",
    "    number_of_diffraction_patterns=1,     #\n",
    "    powder=False,                         # Set to True to create a virtual powder diffraction pattern (unested) \n",
    "    intensities_file=None,                # File that contains reflection intensities. If set to none, use uniform intensity distribution\n",
    "    crystal_size_range=[1e-7,1e-7],       # Range ([min,max]) in units of metres of crystal size.\n",
    "    poissonize=False,                     # Set to True to add Poisson noise.\n",
    "    number_of_background_photons=0,       # Change number to add uniformly distributed background photons.\n",
    "    suppress_fringes=False,               # Set to True to suppress side maxima between reflection peaks.\n",
    "    beam_parameters=beam,                 # Beam parameters object from above\n",
    "    detector_geometry='simple.geom',      # External file that contains the detector geometry in CrystFEL notation.\n",
    "    )\n"
   ]
  },
  {
   "cell_type": "code",
   "execution_count": 7,
   "metadata": {},
   "outputs": [],
   "source": [
    "diffractor = CrystFELPhotonDiffractor(\n",
    "    parameters=parameters,      \n",
    "    output_path=\"xstal_diffr\")  # Output will go to a new dir \"xstal_diffr/\" in the current directory.'"
   ]
  },
  {
   "cell_type": "code",
   "execution_count": 8,
   "metadata": {},
   "outputs": [],
   "source": [
    "diffractor.parameters.nodes_per_task = 1\n",
    "diffractor.parameters.gpus_per_task = 0\n",
    "diffractor.parameters.cpus_per_task = 1"
   ]
  },
  {
   "cell_type": "code",
   "execution_count": 9,
   "metadata": {},
   "outputs": [
    {
     "data": {
      "application/vnd.jupyter.widget-view+json": {
       "model_id": "3a307ffd54024dc4b044c697cef01d24",
       "version_major": 2,
       "version_minor": 0
      },
      "text/plain": [
       "SLURMSubmitter(children=(HBox(children=(Label(value='Partition'), Dropdown(options=('all', 'maxwell', 'cfel', …"
      ]
     },
     "metadata": {},
     "output_type": "display_data"
    },
    {
     "name": "stdout",
     "output_type": "stream",
     "text": [
      "Submitted batch job 978442\n",
      "Submitted batch job 978443\n",
      "Submitted batch job 978444\n",
      "Submitted batch job 978445\n",
      "Submitted batch job 978446\n"
     ]
    }
   ],
   "source": [
    "display(SLURMSubmitter(diffractor))"
   ]
  },
  {
   "cell_type": "code",
   "execution_count": 10,
   "metadata": {},
   "outputs": [],
   "source": [
    "def checkjob(m):\n",
    "    stat = !squeue -u reppinjo\n",
    "    html1.value = '{} {} {} {} {} {} {} {}'.format(*(stat[0].lower().split()))\n",
    "    html2.value = '<br/>'.join(stat[1:])\n",
    "    "
   ]
  },
  {
   "cell_type": "code",
   "execution_count": 11,
   "metadata": {},
   "outputs": [
    {
     "data": {
      "application/vnd.jupyter.widget-view+json": {
       "model_id": "0f602324803c4804ac6f7906477fb540",
       "version_major": 2,
       "version_minor": 0
      },
      "text/plain": [
       "VBox(children=(Button(description='Check SLURM jobs', style=ButtonStyle()), HTML(value='HEADER'), HTML(value='…"
      ]
     },
     "metadata": {},
     "output_type": "display_data"
    }
   ],
   "source": [
    "w = widgets.VBox()\n",
    "button = widgets.Button(description='Check SLURM jobs')\n",
    "html1 =  widgets.HTML('HEADER')\n",
    "html2 =  widgets.HTML('job status')\n",
    "w.children = [button, html1, html2]\n",
    "w.children[0].on_click(checkjob)\n",
    "display(w)"
   ]
  },
  {
   "cell_type": "code",
   "execution_count": null,
   "metadata": {},
   "outputs": [],
   "source": []
  },
  {
   "cell_type": "code",
   "execution_count": null,
   "metadata": {},
   "outputs": [],
   "source": []
  }
 ],
 "metadata": {
  "kernelspec": {
   "display_name": "Python 3",
   "language": "python",
   "name": "python3"
  },
  "language_info": {
   "codemirror_mode": {
    "name": "ipython",
    "version": 3
   },
   "file_extension": ".py",
   "mimetype": "text/x-python",
   "name": "python",
   "nbconvert_exporter": "python",
   "pygments_lexer": "ipython3",
   "version": "3.4.5"
  }
 },
 "nbformat": 4,
 "nbformat_minor": 2
}
